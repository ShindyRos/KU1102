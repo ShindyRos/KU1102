{
 "cells": [
  {
   "cell_type": "markdown",
   "metadata": {},
   "source": [
    "<div style='background-image: url(\"./share/header.png\") ; padding: 0px ; background-size: cover ; border-radius: 5px ; height: 400px'>\n",
    "    <div style=\"float: right ; margin: 170px ; padding: 10px ; background: rgba(255 , 255 , 255 , 0.7) ; width: 53% ; height: 100px\">\n",
    "        <div style=\"position: relative ; top: 50% ; transform: translatey(-50%)\">\n",
    "            <div style=\"font-size: xxx-large ; font-weight: 950 ; color: rgba(0 , 0 , 0 , 0.8) ; line-height: 100%\">Pengulangan ( <i>Looping</i> / <i>Repetition</i>) </div>\n",
    "            <div style=\"font-size: xx-large ; padding-top: 10px ; color: rgba(0 , 0 , 0 , 0.5)\">KU1102</div>\n",
    "        </div>\n",
    "    </div>\n",
    "</div>"
   ]
  },
  {
   "cell_type": "markdown",
   "metadata": {},
   "source": [
    "# Minggu 06\n",
    "<span style=\"color:white;font-weight:100;font-size:35px\">\n",
    "<ul>\n",
    "<li> Mahasiswa dapat menjelaskan jenis-jenis pengulangan dan penggunaannya serta elemen-elemen dalam pengulangan. <br>\n",
    "<li> Mahasiswa dapat menggunakan notasi pengulangan yang sesuai dengan benar. <br>\n",
    "<li> Mahasiswa dapat memanfaatkan jenis-jenis pengulangan dengan tepat dalam menyelesaikan persoalan sederhana yang diberikan. <br>\n",
    "</li>\n",
    "</ul>\n",
    "</span>\n"
   ]
  },
  {
   "cell_type": "markdown",
   "metadata": {},
   "source": [
    "## Contoh 1 - Program JumlahAngka\n",
    "### Menghitung 1+2+3+...+N. Asumsi N > 0\n",
    "<span style=\"color:white;font-weight:100;font-size:35px\">\n",
    "<li>\n",
    "Menggunakan <i>for</i>\n",
    "</li>\n",
    "</span>"
   ]
  },
  {
   "cell_type": "code",
   "execution_count": null,
   "metadata": {},
   "outputs": [],
   "source": [
    "# Program JumlahAngka\n",
    "# Menghitung 1+2+3+...+N. Asumsi N > 0\n",
    "\n",
    "# KAMUS\n",
    "#  N : int\n",
    "#  i, sum : int\n",
    "\n",
    "# ALGORITMA\n",
    "N = int(input())    # Inisialisasi\n",
    "sum = 0             # Inisialisasi\n",
    "\n",
    "for i in range(1,N+1):\n",
    "    print(i)        # Aksi\n",
    "    sum = sum + i   # Aksi\n",
    "\n",
    "print(sum)          # Terminasi\n"
   ]
  },
  {
   "cell_type": "markdown",
   "metadata": {},
   "source": [
    "<span style=\"color:white;font-weight:100;font-size:35px\">\n",
    "<li>\n",
    "Menggunakan <i>while</i>\n",
    "</li>\n",
    "</span>"
   ]
  },
  {
   "cell_type": "code",
   "execution_count": null,
   "metadata": {},
   "outputs": [],
   "source": [
    "# Program JumlahAngka\n",
    "# Menghitung 1+2+3+...+N Asumsi N > 0\n",
    "\n",
    "# KAMUS\n",
    "# N : int\n",
    "# i, sum : int\n",
    "\n",
    "# ALGORITMA\n",
    "N = int(input())     # Inisialisasi\n",
    "sum = 0              # Inisialisasi\n",
    "i = 1                # First-Element\n",
    "while (i <= N):      # Kondisi-mengulang\n",
    "      print(i)       # Aksi\t      \n",
    "      sum = sum + i  # Aksi\n",
    "      i = i + 1      # Next-Element\n",
    "# i > N\n",
    "print(sum)           # Terminasi\n"
   ]
  },
  {
   "cell_type": "markdown",
   "metadata": {},
   "source": [
    "## Contoh 2 - Program Jumlah 10 Angka\n",
    "### Menerima masukan 10 buah integer dan menjumlahkan totalnya\n"
   ]
  },
  {
   "cell_type": "code",
   "execution_count": null,
   "metadata": {},
   "outputs": [],
   "source": [
    "# Program Jumlah10Angka\n",
    "# Menerima masukan 10 buah integer dan \n",
    "# menjumlahkan totalnya\n",
    "\n",
    "# KAMUS\n",
    "# N, i, sum : int\n",
    "\n",
    "# ALGORITMA\n",
    "sum = 0                 # Inisialisasi\n",
    "\n",
    "for i in range(1, 11):\n",
    "    N = int(input())    # Aksi\n",
    "    sum = sum + N       # Aksi\n",
    "\n",
    "print(sum)              # Terminasi\n"
   ]
  },
  {
   "cell_type": "markdown",
   "metadata": {},
   "source": [
    "## Contoh 3 - Program RataBilangan\n",
    "<span style=\"color:white;font-weight:100;font-size:35px\">\n",
    "<ul>\n",
    "<li> Buatlah program yang membaca sejumlah bilangan integer dari keyboard sampai pengguna memasukkan angka -999 (angka -999 tidak termasuk bilangan yang diolah). <br>\n",
    "<li> Tuliskan berapa banyak bilangan yang dimasukkan, nilai total, dan rata-rata semua bilangan <br>\n",
    "<li> Jika dari masukan pertama sudah menuliskan -999, maka tuliskan pesan “Tidak ada data yang diolah” <br><br>\n",
    "\n",
    "| No | Input | Output |\n",
    "|----|---|---|\n",
    "|1|-1 <br> 12 <br> -6 <br> 10 <br> 2 <br> -999 </br> |Banyak bilangan = 5 <br> Jumlah total = 17 <br> Rata-rata = 3.40|\n",
    "|2|-999|<b>Tidak ada data yang diolah</b>|\n",
    "\n",
    "<br>\n",
    "<li> Petunjuk: Gunakan pengulangan while </br></li><ul></span>\n"
   ]
  },
  {
   "cell_type": "code",
   "execution_count": null,
   "metadata": {},
   "outputs": [],
   "source": [
    "# Program RataBilangan\n",
    "# Menerima masukan sejumlah bilangan integer sampai pengguna memasukkan -999 dan dan menampilkan banyak bilangan, total, dan rata-ratanya\n",
    "\n",
    "# KAMUS\n",
    "# X, count, sum : int\n",
    "# rata : float\n",
    "\n",
    "# ALGORITMA\n",
    "sum = 0; count = 0     # Inisialisasi\n",
    "\n",
    "X = int(input())       # First-Elmt\n",
    "while (X != -999):\n",
    "    count = count + 1  # Aksi\n",
    "    sum = sum + X\n",
    "    X = int(input())   # Next-Elmt\n",
    "# X = -999\n",
    "\n",
    "# Terminasi\n",
    "if (count > 0):\n",
    "    print(\"Banyaknya bilangan = \" + str(count))\n",
    "    print(\"Jumlah total = \" + str(sum))\n",
    "    rata = sum/count\n",
    "    print(\"Rata-rata = \" + str(rata))\n",
    "else:\n",
    "    print (\"Tidak ada data yang diolah\")"
   ]
  },
  {
   "cell_type": "markdown",
   "metadata": {},
   "source": [
    "# Latihan Soal\n",
    "## Soal 1\n",
    "\n",
    "<span style=\"color:white;font-weight:100;font-size:35px\">\n",
    "<ul> <li> Buatlah algoritma/program yang membaca sebuah nilai integer positif, misalnya N, dan menjumlahkan (serta menampilkan) semua bilangan kelipatan 5 antara 1 s.d. N.\n",
    "<br> Contoh : </br> </br>\n",
    "\n",
    "| No | Input N | Output | Keterangan |\n",
    "|:---:|:---:|:---:|---|\n",
    "| 1 | 5 | 5 | Hanya ada 1 bilangan kelipatan 5 antara 1 s.d. 5, yaitu 5 |\n",
    "| 2 | 26| 75| Bilangan kelipatan 5 antara 1 s.d. 26 adalah 5, 10, 15, 20, 25 <br> 5+10+15+20+25 = 75 </br> |\n",
    "| 3 | 4 | 0 | Tidak ada bilangan kelipatan 5 antara 1 s.d. 4 |\n",
    "\n",
    "</ul>\n",
    "</span>\n",
    "\n",
    "---------------------------"
   ]
  },
  {
   "cell_type": "markdown",
   "metadata": {},
   "source": [
    "## Soal 2\n",
    "\n",
    "<span style=\"color:white;font-weight:100;font-size:35px\">\n",
    "<ul> <li> Buatlah algoritma/program yang membaca ada berapa banyak mahasiswa di kelas, misalnya N (Asumsi: N > 0, tidak perlu diperiksa)<br>\n",
    "<li> Selanjutnya, bacalah N buah character yang merepresentasikan nilai tugas KU1102. Nilai tugas yang mungkin adalah: ‘A’, ‘B’, ‘C’, ‘D’, ‘E’, ‘F’. Asumsikan masukan nilai selalu benar.<br>\n",
    "<li> Jika mahasiswa mendapatkan nilai: A’, ‘B’, ‘C’, atau ‘D’, maka mahasiswa dinyatakan lulus; sedangkan jika mendapat ‘E’ atau ‘F’ maka mahasiswa dinyatakan tidak lulus.<br>\n",
    "<li> Tuliskan ke layar berapa banyak mahasiswa yang lulus dan berapa yang tidak lulus.<br>\n",
    "Contoh : </br> </br>\n",
    "\n",
    "| No | Input N | Input Nilai KU1102 | Output |\n",
    "|:---:|:---:|:---:|---|\n",
    "| 1 | 7 | A <br> B <br> C <br> A <br> A <br> E <br> D </br>| Lulus = 6 <br> Tidak Lulus = 1 </br> |\n",
    "| 2 | 5 | A <br> B <br> B <br> A <br> A </br>              | Lulus = 5 <br> Tidak Lulus = 0 </br> |\n",
    "| 3 | 5 | E <br> E <br> E <br> E <br> E </br>              | Lulus = 0 <br> Tidak Lulus = 5 </br> |\n",
    "\n",
    "</ul>\n",
    "</span>\n",
    "\n",
    "---------------------------"
   ]
  },
  {
   "cell_type": "markdown",
   "metadata": {},
   "source": [
    "## Soal 3\n",
    "\n",
    "<span style=\"color:white;font-weight:100;font-size:35px\">\n",
    "<ul> <li> Buatlah algoritma/program untuk membaca sekumpulan bilangan bulat (integer) positif. <br> Pembacaan data diakhiri jika pengguna memasukkan nilai negatif.<br>\n",
    "<li> Selanjutnya, cetaklah berapa banyak bilangan genap dan ganjil. <br>\n",
    "<li> Angka \"0\" adalah bilangan genap. <br>\n",
    "Contoh : </br> </br>\n",
    "\n",
    "| No | Input | Output | Keterangan |\n",
    "|:---:|:---:|:---:|---|\n",
    "| 1 | 7 <br> 8 <br> 0 <br> 9 <br> 10 <br> -1 </br>| Genap = 3 <br> Ganjil = 2 </br> | |\n",
    "| 2 | 4 <br> 10 <br> 6 <br> -111 </br>            | Genap = 3 <br> Ganjil = 0 </br> | |\n",
    "| 3 | 5 <br> 17 <br> -234 </br>                   | Genap = 0 <br> Ganjil = 2 </br> | |\n",
    "| 4 | -99                                         | Genap = 0 <br> Ganjil = 0 </br> | <b>Tidak ada bilangan positif yang dimasukkan</b> |\n",
    "\n",
    "\n",
    "</ul>\n",
    "</span>\n",
    "\n",
    "---------------------------"
   ]
  },
  {
   "cell_type": "markdown",
   "metadata": {},
   "source": [
    "## Soal 4\n",
    "### Lagu Anak Ayam\n",
    "<span style=\"color:white;font-weight:100;font-size:35px\">\n",
    "<ul> <li> Masih ingatkah dengan lagu Anak Ayam??<br>\n",
    "\n",
    "[![](https://markdown-videos-api.jorgenkh.no/youtube/bY7HatQKB6U)](https://youtu.be/bY7HatQKB6U)\n",
    "\n",
    "<li> Buatlah <b>3 versi </b> program yang menerima masukan sebuah integer positif, misalnya N (asumsi N>0), dan menuliskan lirik lagu Anak Ayam di bawah dengan menggunakan perulangan <b>for, do-while, dan while</b>.<br>\n",
    "Contoh Lirik: </br> </br>\n",
    "\n",
    "|Anak ayam turunlah 5 <br> Mati satu tinggallah 4 <br> Mati satu tinggallah 3 <br> Mati satu tinggallah 2 <br> Mati satu tinggallah 1 <br> Mati satu tinggal induknya </br>| Algoritma <br> &#8594; | Anak ayam turunlah N <br> Mati satu tinggallah N-1 <br> Mati satu tinggallah N-2 <br> …. <br> Mati satu tinggallah 1 <br> Mati satu tinggal induknya </br>\n",
    "|---|:---:|---|\n",
    "\n",
    "</br>\n",
    "<li>Berikan komentar, apakah masing-masing jenis pengulangan tepat untuk persoalan ini.\n",
    "\n",
    "\n",
    "</ul>\n",
    "</span>\n",
    "\n",
    "---------------------------"
   ]
  },
  {
   "cell_type": "markdown",
   "metadata": {},
   "source": [
    "## Soal 5\n",
    "### Menghitung Luas di bawah Kurva\n",
    "<span style=\"color:white;font-weight:100;font-size:35px\">\n",
    "<ul> <li> Untuk menghitung luas daerah dari suatu kurva yang dibentuk dengan rumus dapat dilakukan dengan menggunakan integral melalui menggunakan pendekatan numerik.\n",
    "<br>\n",
    "<li> Pendekatan numerik akan memotong-motong daerah dengan interval tertentu, kemudian dihitung luas masing-masing potongan daerah tersebut dengan menggunakan rumus trapesium secara berulang-ulang. <br>\n",
    "<li> Buatlah algoritma/program untuk persoalan berikut. </li>\n",
    "</ul>\n",
    "\n",
    "---------------------------"
   ]
  },
  {
   "cell_type": "markdown",
   "metadata": {},
   "source": [
    "## Soal 6\n",
    "<span style=\"color:white;font-weight:100;font-size:35px\">\n",
    "<ul> <li> BMKG (Badan Meteorologi, Klimatologi, dan Geofisika) Kota Bandung membutuhkan sebuah program untuk menghitung beberapa statistik dasar terkait suhu udara di Kota Bandung dalam 1 bulan, yaitu: <ul> <li> Suhu rata-rata <br> <li> Suhu tertinggi <br> <li> Suhu terendah </li></ul></br>\n",
    "<li> Buatlah program yang menerima masukan jumlah hari dalam 1 bulan, misalnya N, (N bisa 28, 29, 30, atau 31 hari – asumsikan masukan benar), lalu menerima suhu udara dari hari ke-1 s.d. hari ke-N dalam bulan tersebut dan menuliskan statistik di atas.\n",
    "</ul>\n",
    "\n",
    "---------------------------"
   ]
  }
 ],
 "metadata": {
  "kernelspec": {
   "display_name": "geo",
   "language": "python",
   "name": "python3"
  },
  "language_info": {
   "codemirror_mode": {
    "name": "ipython",
    "version": 3
   },
   "file_extension": ".py",
   "mimetype": "text/x-python",
   "name": "python",
   "nbconvert_exporter": "python",
   "pygments_lexer": "ipython3",
   "version": "3.9.6"
  },
  "orig_nbformat": 4
 },
 "nbformat": 4,
 "nbformat_minor": 2
}
